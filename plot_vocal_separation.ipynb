{
  "cells": [
    {
      "cell_type": "code",
      "execution_count": 1,
      "metadata": {
        "collapsed": false
      },
      "outputs": [],
      "source": [
        "%matplotlib inline"
      ]
    },
    {
      "cell_type": "markdown",
      "metadata": {},
      "source": [
        "\n",
        "# Vocal separation\n",
        "\n",
        "\n",
        "This notebook demonstrates a simple technique for separating vocals (and\n",
        "other sporadic foreground signals) from accompanying instrumentation.\n",
        "\n",
        "This is based on the \"REPET-SIM\" method of `Rafii and Pardo, 2012\n",
        "<http://www.cs.northwestern.edu/~zra446/doc/Rafii-Pardo%20-%20Music-Voice%20Separation%20using%20the%20Similarity%20Matrix%20-%20ISMIR%202012.pdf>`_, but includes a couple of modifications and extensions:\n",
        "\n",
        "    - FFT windows overlap by 1/4, instead of 1/2\n",
        "    - Non-local filtering is converted into a soft mask by Wiener filtering.\n",
        "      This is similar in spirit to the soft-masking method used by `Fitzgerald, 2012\n",
        "      <http://arrow.dit.ie/cgi/viewcontent.cgi?article=1086&context=argcon>`_,\n",
        "      but is a bit more numerically stable in practice.\n",
        "\n"
      ]
    },
    {
      "cell_type": "code",
      "execution_count": 4,
      "metadata": {
        "collapsed": false
      },
      "outputs": [
        {
          "ename": "OSError",
          "evalue": "cannot load library '/Users/mloucks/Library/Python/3.8/lib/python/site-packages/_soundfile_data/libsndfile.dylib': dlopen(/Users/mloucks/Library/Python/3.8/lib/python/site-packages/_soundfile_data/libsndfile.dylib, 0x0002): tried: '/Users/mloucks/Library/Python/3.8/lib/python/site-packages/_soundfile_data/libsndfile.dylib' (no such file)",
          "output_type": "error",
          "traceback": [
            "\u001b[0;31m---------------------------------------------------------------------------\u001b[0m",
            "\u001b[0;31mOSError\u001b[0m                                   Traceback (most recent call last)",
            "File \u001b[0;32m~/Library/Python/3.8/lib/python/site-packages/soundfile.py:142\u001b[0m, in \u001b[0;36m<module>\u001b[0;34m\u001b[0m\n\u001b[1;32m    141\u001b[0m \u001b[39mif\u001b[39;00m _libname \u001b[39mis\u001b[39;00m \u001b[39mNone\u001b[39;00m:\n\u001b[0;32m--> 142\u001b[0m     \u001b[39mraise\u001b[39;00m \u001b[39mOSError\u001b[39;00m(\u001b[39m'\u001b[39m\u001b[39msndfile library not found\u001b[39m\u001b[39m'\u001b[39m)\n\u001b[1;32m    143\u001b[0m _snd \u001b[39m=\u001b[39m _ffi\u001b[39m.\u001b[39mdlopen(_libname)\n",
            "\u001b[0;31mOSError\u001b[0m: sndfile library not found",
            "\nDuring handling of the above exception, another exception occurred:\n",
            "\u001b[0;31mOSError\u001b[0m                                   Traceback (most recent call last)",
            "\u001b[1;32m/Users/mloucks/Programming/PueblasGotTalent/plot_vocal_separation.ipynb Cell 3\u001b[0m in \u001b[0;36m<cell line: 9>\u001b[0;34m()\u001b[0m\n\u001b[1;32m      <a href='vscode-notebook-cell:/Users/mloucks/Programming/PueblasGotTalent/plot_vocal_separation.ipynb#ch0000002?line=6'>7</a>\u001b[0m \u001b[39mimport\u001b[39;00m \u001b[39mnumpy\u001b[39;00m \u001b[39mas\u001b[39;00m \u001b[39mnp\u001b[39;00m\n\u001b[1;32m      <a href='vscode-notebook-cell:/Users/mloucks/Programming/PueblasGotTalent/plot_vocal_separation.ipynb#ch0000002?line=7'>8</a>\u001b[0m \u001b[39mimport\u001b[39;00m \u001b[39mmatplotlib\u001b[39;00m\u001b[39m.\u001b[39;00m\u001b[39mpyplot\u001b[39;00m \u001b[39mas\u001b[39;00m \u001b[39mplt\u001b[39;00m\n\u001b[0;32m----> <a href='vscode-notebook-cell:/Users/mloucks/Programming/PueblasGotTalent/plot_vocal_separation.ipynb#ch0000002?line=8'>9</a>\u001b[0m \u001b[39mimport\u001b[39;00m \u001b[39mlibrosa\u001b[39;00m\n\u001b[1;32m     <a href='vscode-notebook-cell:/Users/mloucks/Programming/PueblasGotTalent/plot_vocal_separation.ipynb#ch0000002?line=10'>11</a>\u001b[0m \u001b[39mimport\u001b[39;00m \u001b[39mlibrosa\u001b[39;00m\u001b[39m.\u001b[39;00m\u001b[39mdisplay\u001b[39;00m\n",
            "File \u001b[0;32m~/Library/Python/3.8/lib/python/site-packages/librosa/__init__.py:209\u001b[0m, in \u001b[0;36m<module>\u001b[0;34m\u001b[0m\n\u001b[1;32m    207\u001b[0m \u001b[39m# And all the librosa sub-modules\u001b[39;00m\n\u001b[1;32m    208\u001b[0m \u001b[39mfrom\u001b[39;00m \u001b[39m.\u001b[39;00m\u001b[39m_cache\u001b[39;00m \u001b[39mimport\u001b[39;00m cache\n\u001b[0;32m--> 209\u001b[0m \u001b[39mfrom\u001b[39;00m \u001b[39m.\u001b[39;00m \u001b[39mimport\u001b[39;00m core\n\u001b[1;32m    210\u001b[0m \u001b[39mfrom\u001b[39;00m \u001b[39m.\u001b[39;00m \u001b[39mimport\u001b[39;00m beat\n\u001b[1;32m    211\u001b[0m \u001b[39mfrom\u001b[39;00m \u001b[39m.\u001b[39;00m \u001b[39mimport\u001b[39;00m decompose\n",
            "File \u001b[0;32m~/Library/Python/3.8/lib/python/site-packages/librosa/core/__init__.py:6\u001b[0m, in \u001b[0;36m<module>\u001b[0;34m\u001b[0m\n\u001b[1;32m      3\u001b[0m \u001b[39m\"\"\" Core IO and DSP functions\"\"\"\u001b[39;00m\n\u001b[1;32m      5\u001b[0m \u001b[39mfrom\u001b[39;00m \u001b[39m.\u001b[39;00m\u001b[39mconvert\u001b[39;00m \u001b[39mimport\u001b[39;00m \u001b[39m*\u001b[39m  \u001b[39m# pylint: disable=wildcard-import\u001b[39;00m\n\u001b[0;32m----> 6\u001b[0m \u001b[39mfrom\u001b[39;00m \u001b[39m.\u001b[39;00m\u001b[39maudio\u001b[39;00m \u001b[39mimport\u001b[39;00m \u001b[39m*\u001b[39m  \u001b[39m# pylint: disable=wildcard-import\u001b[39;00m\n\u001b[1;32m      7\u001b[0m \u001b[39mfrom\u001b[39;00m \u001b[39m.\u001b[39;00m\u001b[39mspectrum\u001b[39;00m \u001b[39mimport\u001b[39;00m \u001b[39m*\u001b[39m  \u001b[39m# pylint: disable=wildcard-import\u001b[39;00m\n\u001b[1;32m      8\u001b[0m \u001b[39mfrom\u001b[39;00m \u001b[39m.\u001b[39;00m\u001b[39mpitch\u001b[39;00m \u001b[39mimport\u001b[39;00m \u001b[39m*\u001b[39m  \u001b[39m# pylint: disable=wildcard-import\u001b[39;00m\n",
            "File \u001b[0;32m~/Library/Python/3.8/lib/python/site-packages/librosa/core/audio.py:8\u001b[0m, in \u001b[0;36m<module>\u001b[0;34m\u001b[0m\n\u001b[1;32m      5\u001b[0m \u001b[39mimport\u001b[39;00m \u001b[39mpathlib\u001b[39;00m\n\u001b[1;32m      6\u001b[0m \u001b[39mimport\u001b[39;00m \u001b[39mwarnings\u001b[39;00m\n\u001b[0;32m----> 8\u001b[0m \u001b[39mimport\u001b[39;00m \u001b[39msoundfile\u001b[39;00m \u001b[39mas\u001b[39;00m \u001b[39msf\u001b[39;00m\n\u001b[1;32m      9\u001b[0m \u001b[39mimport\u001b[39;00m \u001b[39maudioread\u001b[39;00m\n\u001b[1;32m     10\u001b[0m \u001b[39mimport\u001b[39;00m \u001b[39mnumpy\u001b[39;00m \u001b[39mas\u001b[39;00m \u001b[39mnp\u001b[39;00m\n",
            "File \u001b[0;32m~/Library/Python/3.8/lib/python/site-packages/soundfile.py:162\u001b[0m, in \u001b[0;36m<module>\u001b[0;34m\u001b[0m\n\u001b[1;32m    159\u001b[0m     \u001b[39mwhile\u001b[39;00m \u001b[39mnot\u001b[39;00m _os\u001b[39m.\u001b[39mpath\u001b[39m.\u001b[39misdir(_path):\n\u001b[1;32m    160\u001b[0m         _path \u001b[39m=\u001b[39m _os\u001b[39m.\u001b[39mpath\u001b[39m.\u001b[39mabspath(_os\u001b[39m.\u001b[39mpath\u001b[39m.\u001b[39mjoin(_path, \u001b[39m'\u001b[39m\u001b[39m..\u001b[39m\u001b[39m'\u001b[39m))\n\u001b[0;32m--> 162\u001b[0m     _snd \u001b[39m=\u001b[39m _ffi\u001b[39m.\u001b[39;49mdlopen(_os\u001b[39m.\u001b[39;49mpath\u001b[39m.\u001b[39;49mjoin(\n\u001b[1;32m    163\u001b[0m         _path, \u001b[39m'\u001b[39;49m\u001b[39m_soundfile_data\u001b[39;49m\u001b[39m'\u001b[39;49m, _libname))\n\u001b[1;32m    165\u001b[0m __libsndfile_version__ \u001b[39m=\u001b[39m _ffi\u001b[39m.\u001b[39mstring(_snd\u001b[39m.\u001b[39msf_version_string())\u001b[39m.\u001b[39mdecode(\u001b[39m'\u001b[39m\u001b[39mutf-8\u001b[39m\u001b[39m'\u001b[39m, \u001b[39m'\u001b[39m\u001b[39mreplace\u001b[39m\u001b[39m'\u001b[39m)\n\u001b[1;32m    166\u001b[0m \u001b[39mif\u001b[39;00m __libsndfile_version__\u001b[39m.\u001b[39mstartswith(\u001b[39m'\u001b[39m\u001b[39mlibsndfile-\u001b[39m\u001b[39m'\u001b[39m):\n",
            "\u001b[0;31mOSError\u001b[0m: cannot load library '/Users/mloucks/Library/Python/3.8/lib/python/site-packages/_soundfile_data/libsndfile.dylib': dlopen(/Users/mloucks/Library/Python/3.8/lib/python/site-packages/_soundfile_data/libsndfile.dylib, 0x0002): tried: '/Users/mloucks/Library/Python/3.8/lib/python/site-packages/_soundfile_data/libsndfile.dylib' (no such file)"
          ]
        }
      ],
      "source": [
        "# Code source: Brian McFee\n",
        "# License: ISC\n",
        "\n",
        "##################\n",
        "# Standard imports\n",
        "from __future__ import print_function\n",
        "import numpy as np\n",
        "import matplotlib.pyplot as plt\n",
        "import librosa\n",
        "\n",
        "import librosa.display"
      ]
    },
    {
      "cell_type": "markdown",
      "metadata": {},
      "source": [
        "Load an example with vocals.\n",
        "\n"
      ]
    },
    {
      "cell_type": "code",
      "execution_count": null,
      "metadata": {
        "collapsed": false
      },
      "outputs": [],
      "source": [
        "y, sr = librosa.load('audio/Cheese_N_Pot-C_-_16_-_The_Raps_Well_Clean_Album_Version.mp3', duration=120)\n",
        "\n",
        "\n",
        "# And compute the spectrogram magnitude and phase\n",
        "S_full, phase = librosa.magphase(librosa.stft(y))"
      ]
    },
    {
      "cell_type": "markdown",
      "metadata": {},
      "source": [
        "Plot a 5-second slice of the spectrum\n",
        "\n"
      ]
    },
    {
      "cell_type": "code",
      "execution_count": null,
      "metadata": {
        "collapsed": false
      },
      "outputs": [],
      "source": [
        "idx = slice(*librosa.time_to_frames([30, 35], sr=sr))\n",
        "plt.figure(figsize=(12, 4))\n",
        "librosa.display.specshow(librosa.amplitude_to_db(S_full[:, idx], ref=np.max),\n",
        "                         y_axis='log', x_axis='time', sr=sr)\n",
        "plt.colorbar()\n",
        "plt.tight_layout()"
      ]
    },
    {
      "cell_type": "markdown",
      "metadata": {},
      "source": [
        "The wiggly lines above are due to the vocal component.\n",
        "Our goal is to separate them from the accompanying\n",
        "instrumentation.\n",
        "\n",
        "\n"
      ]
    },
    {
      "cell_type": "code",
      "execution_count": null,
      "metadata": {
        "collapsed": false
      },
      "outputs": [],
      "source": [
        "# We'll compare frames using cosine similarity, and aggregate similar frames\n",
        "# by taking their (per-frequency) median value.\n",
        "#\n",
        "# To avoid being biased by local continuity, we constrain similar frames to be\n",
        "# separated by at least 2 seconds.\n",
        "#\n",
        "# This suppresses sparse/non-repetetitive deviations from the average spectrum,\n",
        "# and works well to discard vocal elements.\n",
        "\n",
        "S_filter = librosa.decompose.nn_filter(S_full,\n",
        "                                       aggregate=np.median,\n",
        "                                       metric='cosine',\n",
        "                                       width=int(librosa.time_to_frames(2, sr=sr)))\n",
        "\n",
        "# The output of the filter shouldn't be greater than the input\n",
        "# if we assume signals are additive.  Taking the pointwise minimium\n",
        "# with the input spectrum forces this.\n",
        "S_filter = np.minimum(S_full, S_filter)"
      ]
    },
    {
      "cell_type": "markdown",
      "metadata": {},
      "source": [
        "The raw filter output can be used as a mask,\n",
        "but it sounds better if we use soft-masking.\n",
        "\n"
      ]
    },
    {
      "cell_type": "code",
      "execution_count": null,
      "metadata": {
        "collapsed": false
      },
      "outputs": [],
      "source": [
        "# We can also use a margin to reduce bleed between the vocals and instrumentation masks.\n",
        "# Note: the margins need not be equal for foreground and background separation\n",
        "margin_i, margin_v = 2, 10\n",
        "power = 2\n",
        "\n",
        "mask_i = librosa.util.softmask(S_filter,\n",
        "                               margin_i * (S_full - S_filter),\n",
        "                               power=power)\n",
        "\n",
        "mask_v = librosa.util.softmask(S_full - S_filter,\n",
        "                               margin_v * S_filter,\n",
        "                               power=power)\n",
        "\n",
        "# Once we have the masks, simply multiply them with the input spectrum\n",
        "# to separate the components\n",
        "\n",
        "S_foreground = mask_v * S_full\n",
        "S_background = mask_i * S_full"
      ]
    },
    {
      "cell_type": "markdown",
      "metadata": {},
      "source": [
        "Plot the same slice, but separated into its foreground and background\n",
        "\n"
      ]
    },
    {
      "cell_type": "code",
      "execution_count": null,
      "metadata": {
        "collapsed": false
      },
      "outputs": [],
      "source": [
        "# sphinx_gallery_thumbnail_number = 2\n",
        "\n",
        "plt.figure(figsize=(12, 8))\n",
        "plt.subplot(3, 1, 1)\n",
        "librosa.display.specshow(librosa.amplitude_to_db(S_full[:, idx], ref=np.max),\n",
        "                         y_axis='log', sr=sr)\n",
        "plt.title('Full spectrum')\n",
        "plt.colorbar()\n",
        "\n",
        "plt.subplot(3, 1, 2)\n",
        "librosa.display.specshow(librosa.amplitude_to_db(S_background[:, idx], ref=np.max),\n",
        "                         y_axis='log', sr=sr)\n",
        "plt.title('Background')\n",
        "plt.colorbar()\n",
        "plt.subplot(3, 1, 3)\n",
        "librosa.display.specshow(librosa.amplitude_to_db(S_foreground[:, idx], ref=np.max),\n",
        "                         y_axis='log', x_axis='time', sr=sr)\n",
        "plt.title('Foreground')\n",
        "plt.colorbar()\n",
        "plt.tight_layout()\n",
        "plt.show()"
      ]
    }
  ],
  "metadata": {
    "kernelspec": {
      "display_name": "Python 3.8.9 ('venv': venv)",
      "language": "python",
      "name": "python3"
    },
    "language_info": {
      "codemirror_mode": {
        "name": "ipython",
        "version": 3
      },
      "file_extension": ".py",
      "mimetype": "text/x-python",
      "name": "python",
      "nbconvert_exporter": "python",
      "pygments_lexer": "ipython3",
      "version": "3.8.9"
    },
    "vscode": {
      "interpreter": {
        "hash": "0014276bf7c08afdb0f574405457a0edc5edee98d225091db60c9e7d44c20932"
      }
    }
  },
  "nbformat": 4,
  "nbformat_minor": 0
}
